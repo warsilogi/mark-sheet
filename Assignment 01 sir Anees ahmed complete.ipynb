{
 "cells": [
  {
   "cell_type": "code",
   "execution_count": 2,
   "metadata": {},
   "outputs": [
    {
     "name": "stdout",
     "output_type": "stream",
     "text": [
      "Input Radius: 0.5\n",
      "Area of Circle with radius 0.5 is: 0.7853981633974483\n"
     ]
    }
   ],
   "source": [
    "from math import pi\n",
    "r = float(input (\"Input Radius: \"))\n",
    "print (\"Area of Circle with radius \" + str(r) + \" is: \" + str(pi * r**2))\n"
   ]
  },
  {
   "cell_type": "code",
   "execution_count": 6,
   "metadata": {},
   "outputs": [
    {
     "name": "stdout",
     "output_type": "stream",
     "text": [
      "Enter Number: -1\n",
      "Negative Number Entered\n"
     ]
    }
   ],
   "source": [
    "num = float(input(\"Enter Number: \"))\n",
    "if num > 0:\n",
    "   print(\"Positive Number Entered\")\n",
    "elif num == 0:\n",
    "   print(\"Zero Entered\")\n",
    "else:\n",
    "   print(\"Negative Number Entered\")\n"
   ]
  },
  {
   "cell_type": "code",
   "execution_count": 7,
   "metadata": {},
   "outputs": [
    {
     "name": "stdout",
     "output_type": "stream",
     "text": [
      "Enter Number: 3\n",
      "Positive Number Entered\n"
     ]
    }
   ],
   "source": [
    "num = float(input(\"Enter Number: \"))\n",
    "if num > 0:\n",
    "   print(\"Positive Number Entered\")\n",
    "elif num == 0:\n",
    "   print(\"Zero Entered\")\n",
    "else:\n",
    "   print(\"Negative Number Entered\")\n"
   ]
  },
  {
   "cell_type": "code",
   "execution_count": 8,
   "metadata": {},
   "outputs": [
    {
     "name": "stdout",
     "output_type": "stream",
     "text": [
      "Enter Number: 0\n",
      "Zero Entered\n"
     ]
    }
   ],
   "source": [
    "num = float(input(\"Enter Number: \"))\n",
    "if num > 0:\n",
    "   print(\"Positive Number Entered\")\n",
    "elif num == 0:\n",
    "   print(\"Zero Entered\")\n",
    "else:\n",
    "   print(\"Negative Number Entered\")\n"
   ]
  },
  {
   "cell_type": "code",
   "execution_count": 10,
   "metadata": {},
   "outputs": [
    {
     "name": "stdout",
     "output_type": "stream",
     "text": [
      "Enter numerator: 4\n",
      "Enter Denominator: 2\n",
      "Number 4 is Completely divisible by 2\n"
     ]
    }
   ],
   "source": [
    "A = int(input(\"Enter numerator: \"))\n",
    "B = int(input(\"Enter Denominator: \"))\n",
    "if A % B  == 0:\n",
    "    print(\"Number\", A , \"is Completely divisible by\", B)\n",
    "else:\n",
    "     print(\"Number\", A , \"is not Completely divisible by\", B)\n"
   ]
  },
  {
   "cell_type": "code",
   "execution_count": 11,
   "metadata": {},
   "outputs": [
    {
     "name": "stdout",
     "output_type": "stream",
     "text": [
      "Enter numerator: 7\n",
      "Enter Denominator: 4\n",
      "Number 7 is not Completely divisible by 4\n"
     ]
    }
   ],
   "source": [
    "c = int(input(\"Enter numerator: \"))\n",
    "d = int(input(\"Enter Denominator: \"))\n",
    "if c % d  == 0:\n",
    "    print(\"Number\", c , \"is Completely divisible by\", d)\n",
    "else:\n",
    "     print(\"Number\", c , \"is not Completely divisible by\", d)\n"
   ]
  },
  {
   "cell_type": "code",
   "execution_count": 16,
   "metadata": {},
   "outputs": [
    {
     "name": "stdout",
     "output_type": "stream",
     "text": [
      "Enter a date in (dd/mm/yy) format: 12/12/2018\n",
      "Enter a date in (dd/mm/yy) format: 16/12/2018\n",
      "There are 4 days in between 12/12/2018 and 16/12/2018\n"
     ]
    }
   ],
   "source": [
    "from datetime import datetime\n",
    "date_format = \"%d/%m/%Y\"\n",
    "C = input(\"Enter a date in (dd/mm/yy) format: \")\n",
    "D = input(\"Enter a date in (dd/mm/yy) format: \")\n",
    "a = datetime.strptime( C , date_format)\n",
    "b = datetime.strptime( D , date_format)\n",
    "delta = b - a\n",
    "print (\"There are\", delta.days, \"days in between\", C , \"and\" , D)\n"
   ]
  },
  {
   "cell_type": "code",
   "execution_count": 2,
   "metadata": {},
   "outputs": [
    {
     "name": "stdout",
     "output_type": "stream",
     "text": [
      "Enter the radius : 5\n",
      "523.5987755982989\n"
     ]
    }
   ],
   "source": [
    "import math\n",
    "radius =  float(input(\"Enter the radius : \"))\n",
    "pi = math.pi\n",
    "constant = 4.0/3.0\n",
    "cube_radius = math.pow(radius,3)\n",
    "if radius >0:\n",
    "    volume = constant*pi*cube_radius\n",
    "else:\n",
    "    volume = \"Invalid radius\"\n",
    "    \n",
    "print(volume)\n",
    "\n"
   ]
  },
  {
   "cell_type": "code",
   "execution_count": 1,
   "metadata": {},
   "outputs": [
    {
     "name": "stdout",
     "output_type": "stream",
     "text": [
      "Enter string: taha\n",
      "How many possible copies of String Data you need to print: 5\n",
      "5 Copies of taha are : tahatahatahatahataha\n"
     ]
    }
   ],
   "source": [
    "S = str(input(\"Enter string: \"))\n",
    "C = int(input(\"How many possible copies of String Data you need to print: \"))\n",
    "if C > 0:\n",
    "    print(C,\"Copies of\", S , \"are :\" , S * C)        \n",
    "else:\n",
    "    print(\"you Entered Invalid number of Copies:\")"
   ]
  },
  {
   "cell_type": "code",
   "execution_count": 2,
   "metadata": {},
   "outputs": [
    {
     "name": "stdout",
     "output_type": "stream",
     "text": [
      "Enter any whole Number: 7\n",
      "7 is Odd\n"
     ]
    }
   ],
   "source": [
    "num = int(input(\"Enter any whole Number: \"))\n",
    "if num % 2 == 0:\n",
    "    print(num, \"is Even\")\n",
    "else:\n",
    "    print(num, \"is Odd\")"
   ]
  },
  {
   "cell_type": "code",
   "execution_count": null,
   "metadata": {},
   "outputs": [],
   "source": [
    "#Enter any whole Number: -4\n",
    "#-4 is Even"
   ]
  },
  {
   "cell_type": "code",
   "execution_count": 3,
   "metadata": {},
   "outputs": [
    {
     "name": "stdout",
     "output_type": "stream",
     "text": [
      "Enter a Character from Alphabets: a\n",
      "Letter  a is Vowel\n"
     ]
    }
   ],
   "source": [
    "char = input(\"Enter a Character from Alphabets: \")\n",
    "c = char.lower()\n",
    "if c == \"a\" or c == \"e\" or c == \"i\" or c == \"o\" or c == \"u\" :\n",
    "    print(\"Letter \",char, \"is Vowel\")\n",
    "else:\n",
    "    print(\"Letter \",char, \"is not Vowel\")"
   ]
  },
  {
   "cell_type": "code",
   "execution_count": null,
   "metadata": {},
   "outputs": [],
   "source": [
    "#Enter a Character from Alphabets: E\n",
    "#Letter  E is Vowel"
   ]
  },
  {
   "cell_type": "code",
   "execution_count": null,
   "metadata": {},
   "outputs": [],
   "source": [
    "#Enter a Character from Alphabets: N\n",
    "#Letter  N is not Vowel"
   ]
  },
  {
   "cell_type": "code",
   "execution_count": 5,
   "metadata": {},
   "outputs": [
    {
     "name": "stdout",
     "output_type": "stream",
     "text": [
      "Enter Magnitude of Triangle Base:4\n",
      "Enter Magnitude of Triangle Height:4\n",
      "Area of a Triangle with Base 4 and Height 4  : 8.0\n"
     ]
    }
   ],
   "source": [
    "b = int(input(\"Enter Magnitude of Triangle Base:\"))\n",
    "h = int(input(\"Enter Magnitude of Triangle Height:\"))\n",
    "print(\"Area of a Triangle with Base\",b,\"and Height\",h,\" :\", h * b / 2)"
   ]
  },
  {
   "cell_type": "code",
   "execution_count": 7,
   "metadata": {},
   "outputs": [
    {
     "name": "stdout",
     "output_type": "stream",
     "text": [
      "Please Enter Principle Amount: 500\n",
      "Please Enter rate of interest in %: .5\n",
      "Enter Number of years for Investment: 5\n",
      "After 5 years your principal amount 500 over an interest rate of 0.5 % will be 1898.4375\n"
     ]
    }
   ],
   "source": [
    "a = int(input(\"Please Enter Principle Amount: \"))\n",
    "b = float(input(\"Please Enter rate of interest in %: \"))\n",
    "c = int(input(\"Enter Number of years for Investment: \"))\n",
    "e = 0\n",
    "f = a * b \n",
    "while e < c:\n",
    "    f += f * b \n",
    "    e += 1\n",
    "print(\"After\",c,\"years your principal amount\",a,\"over an interest rate of\",b,\"% will be\",f)"
   ]
  },
  {
   "cell_type": "code",
   "execution_count": 8,
   "metadata": {},
   "outputs": [
    {
     "name": "stdout",
     "output_type": "stream",
     "text": [
      "Enter Co-ordinate for X1: 2\n",
      "Enter Co-ordinate for X2: 4\n",
      "Enter Co-ordinate for Y1: 4\n",
      "Enter Co-ordinate for Y2: 4\n",
      "Distance Between Points ( 2 , 4 ) and ( 4 , 4 ) is:  2.0\n"
     ]
    }
   ],
   "source": [
    "import math\n",
    "a = int(input(\"Enter Co-ordinate for X1: \"))\n",
    "b = int(input(\"Enter Co-ordinate for X2: \"))\n",
    "c = int(input(\"Enter Co-ordinate for Y1: \"))\n",
    "d = int(input(\"Enter Co-ordinate for Y2: \"))\n",
    "g = (a - b)*(a - b) + (c - d)*(c - d)\n",
    "e = math.sqrt(g)\n",
    "print(\"Distance Between Points (\", a , \",\" , c , \") and (\" ,b, \",\" , d , \") is: \",e)"
   ]
  },
  {
   "cell_type": "code",
   "execution_count": 9,
   "metadata": {},
   "outputs": [
    {
     "name": "stdout",
     "output_type": "stream",
     "text": [
      "Enter Height in Feet: 5\n",
      "There are 152.4 cm in 5.0 ft\n"
     ]
    }
   ],
   "source": [
    "a = float(input(\"Enter Height in Feet: \"))\n",
    "print(\"There are\", a * 30.48,\"cm\",\"in\",a,\"ft\" )"
   ]
  },
  {
   "cell_type": "code",
   "execution_count": 10,
   "metadata": {},
   "outputs": [
    {
     "name": "stdout",
     "output_type": "stream",
     "text": [
      "Enter Height in cm: 170\n",
      "Enter Weight in kg: 70\n",
      " Your BMI is:  24.22\n"
     ]
    }
   ],
   "source": [
    "h = float(input(\"Enter Height in cm: \"))\n",
    "w = float(input(\"Enter Weight in kg: \"))\n",
    "bmi = round( w / (( h * 0.01 )**2) ,2 )\n",
    "print( \" Your BMI is: \", bmi )"
   ]
  },
  {
   "cell_type": "code",
   "execution_count": 11,
   "metadata": {},
   "outputs": [
    {
     "name": "stdout",
     "output_type": "stream",
     "text": [
      "Enter value of n: 5\n",
      " Sum of N Posistive Inetegers till {N} is :  15.0\n"
     ]
    }
   ],
   "source": [
    "n = int(input(\"Enter value of n: \"))\n",
    "sum = (n*(n+1)) / 2\n",
    "print(\" Sum of N Posistive Inetegers till {N} is : \", sum)"
   ]
  },
  {
   "cell_type": "code",
   "execution_count": 12,
   "metadata": {},
   "outputs": [
    {
     "name": "stdout",
     "output_type": "stream",
     "text": [
      "Enter a Number: 1234\n",
      "Sum of 1+2+3+4 is:  10\n"
     ]
    }
   ],
   "source": [
    "n = str(input(\"Enter a Number: \"))\n",
    "sum = 0 \n",
    "for x in n:\n",
    "    sum += int(x)\n",
    "print(\"Sum of\", '+'.join(map(str,n)) ,\"is: \",sum)"
   ]
  },
  {
   "cell_type": "code",
   "execution_count": null,
   "metadata": {},
   "outputs": [],
   "source": [
    "# Enter a Number: 15\n",
    "# Sum of 1+5 is:  6"
   ]
  },
  {
   "cell_type": "code",
   "execution_count": 13,
   "metadata": {},
   "outputs": [
    {
     "name": "stdout",
     "output_type": "stream",
     "text": [
      "Enter a Decimal number: 5\n",
      "Binary Reperesentation of 5 is:  101\n"
     ]
    }
   ],
   "source": [
    "\n",
    "d = int(input(\"Enter a Decimal number: \"))\n",
    "b = bin(d)\n",
    "print(\"Binary Reperesentation of\",d,\"is: \", b[2:])"
   ]
  },
  {
   "cell_type": "code",
   "execution_count": null,
   "metadata": {},
   "outputs": [],
   "source": [
    "# Enter a Decimal number: 32\n",
    "# Binary Reperesentation of 32 is:  100000"
   ]
  },
  {
   "cell_type": "code",
   "execution_count": 14,
   "metadata": {},
   "outputs": [
    {
     "name": "stdout",
     "output_type": "stream",
     "text": [
      "Enter a Binary number: 1101\n",
      "Decimal Reperesentation of 1101 is:  13\n"
     ]
    }
   ],
   "source": [
    "b = input(\"Enter a Binary number: \")\n",
    "d = int(b,2)\n",
    "print(\"Decimal Reperesentation of\",b,\"is: \",d)"
   ]
  },
  {
   "cell_type": "code",
   "execution_count": null,
   "metadata": {},
   "outputs": [],
   "source": [
    "# Enter a Binary number: 1001\n",
    "# Decimal Reperesentation of 1001 is:  9"
   ]
  },
  {
   "cell_type": "code",
   "execution_count": 15,
   "metadata": {},
   "outputs": [
    {
     "name": "stdout",
     "output_type": "stream",
     "text": [
      "Enter Text: over the jump\n",
      "Vowels:  4\n",
      "Consonants:  9\n"
     ]
    }
   ],
   "source": [
    "a = input(\"Enter Text: \")\n",
    "c = a.lower()\n",
    "vowel = 0\n",
    "consonant = 0\n",
    "for x in c:\n",
    "    if x == \"a\" or x == \"e\" or x == \"i\" or x == \"o\" or x == \"u\":\n",
    "        vowel += 1\n",
    "    else:\n",
    "        consonant += 1\n",
    "print(\"Vowels: \", vowel)\n",
    "print(\"Consonants: \", consonant)"
   ]
  },
  {
   "cell_type": "code",
   "execution_count": 19,
   "metadata": {},
   "outputs": [
    {
     "name": "stdout",
     "output_type": "stream",
     "text": [
      "Enter Text: aha\n",
      "Text is Palindrome. \n"
     ]
    }
   ],
   "source": [
    "str_data = str(input(\"Enter Text: \"))\n",
    "str_data = str_data.casefold()\n",
    "str_rev = reversed( str_data )\n",
    "\n",
    "if list( str_data ) == list( str_rev ):\n",
    "    print(\"Text is Palindrome. \")\n",
    "    \n",
    "else:\n",
    "    print(\"Text is Not Palindrome. \")"
   ]
  },
  {
   "cell_type": "code",
   "execution_count": 21,
   "metadata": {},
   "outputs": [],
   "source": [
    "# Enter Text: aIboUObiA\n",
    "# Text aIboUObiA is Palindrome."
   ]
  },
  {
   "cell_type": "code",
   "execution_count": 23,
   "metadata": {},
   "outputs": [],
   "source": [
    "# Enter Text: hello\n",
    "# Text is Not Palindrome."
   ]
  },
  {
   "cell_type": "code",
   "execution_count": 24,
   "metadata": {},
   "outputs": [
    {
     "name": "stdout",
     "output_type": "stream",
     "text": [
      "Enter Text: python 3.2\n",
      "Alphabets:           6\n",
      "Numbers:             2\n",
      "Special Characters:  1\n",
      "Space:               1\n"
     ]
    }
   ],
   "source": [
    "str_data = input(\"Enter Text: \")\n",
    "alpha = 0\n",
    "digit = 0\n",
    "sc = 0\n",
    "space = 0\n",
    "for x in str_data:\n",
    "    if int(ord(x)) >= 65 and int(ord(x)) <= 122:\n",
    "        alpha += 1\n",
    "    elif int(ord(x)) >= 48 and int(ord(x)) <= 57:\n",
    "        digit += 1\n",
    "    elif x == \" \":\n",
    "        space += 1\n",
    "    else:\n",
    "        sc += 1\n",
    "print(\"Alphabets:          \",alpha)\n",
    "print(\"Numbers:            \",digit)\n",
    "print(\"Special Characters: \",sc)\n",
    "print(\"Space:              \",space)"
   ]
  },
  {
   "cell_type": "code",
   "execution_count": 25,
   "metadata": {},
   "outputs": [
    {
     "name": "stdout",
     "output_type": "stream",
     "text": [
      "*\n",
      "**\n",
      "***\n",
      "****\n",
      "*****\n",
      "****\n",
      "***\n",
      "**\n",
      "*\n"
     ]
    }
   ],
   "source": [
    "f1 = 1\n",
    "i1 = 0\n",
    "f2 = 4\n",
    "i2 = 0\n",
    "while i1 <= 4:\n",
    "    d = '*'\n",
    "    print(d * f1)\n",
    "    f1 += 1\n",
    "    i1 += 1\n",
    "while i2 < 4:\n",
    "    d = '*'\n",
    "    print(d * f2)\n",
    "    f2 -= 1\n",
    "    i2 += 1"
   ]
  },
  {
   "cell_type": "code",
   "execution_count": 26,
   "metadata": {},
   "outputs": [
    {
     "name": "stdout",
     "output_type": "stream",
     "text": [
      "1  \n",
      "1 2  \n",
      "1 2 3  \n",
      "1 2 3 4  \n",
      "1 2 3 4 5  \n",
      "1 2 3 4  \n",
      "1 2 3  \n",
      "1 2  \n",
      "1  \n"
     ]
    }
   ],
   "source": [
    "i = 6\n",
    "d = 0\n",
    "for x in range(1,i):\n",
    "    for y in range(1, x + 1):\n",
    "        print (y , end = \" \")\n",
    "    print(\" \")\n",
    "for r in range(4,d,-1):\n",
    "    for c in range(1, r + 1):\n",
    "        print (c , end = \" \")\n",
    "    print(\" \")"
   ]
  },
  {
   "cell_type": "code",
   "execution_count": 27,
   "metadata": {},
   "outputs": [
    {
     "name": "stdout",
     "output_type": "stream",
     "text": [
      " \n",
      "1  \n",
      "2 2  \n",
      "3 3 3  \n",
      "4 4 4 4  \n",
      "5 5 5 5 5  \n",
      "6 6 6 6 6 6  \n",
      "7 7 7 7 7 7 7  \n",
      "8 8 8 8 8 8 8 8  \n",
      "9 9 9 9 9 9 9 9 9  \n"
     ]
    }
   ],
   "source": [
    "for i in range(10):\n",
    "    for f in range(i):\n",
    "        print(i, end = ' ')\n",
    "    print(\" \")"
   ]
  }
 ],
 "metadata": {
  "kernelspec": {
   "display_name": "Python 3",
   "language": "python",
   "name": "python3"
  },
  "language_info": {
   "codemirror_mode": {
    "name": "ipython",
    "version": 3
   },
   "file_extension": ".py",
   "mimetype": "text/x-python",
   "name": "python",
   "nbconvert_exporter": "python",
   "pygments_lexer": "ipython3",
   "version": "3.7.3"
  }
 },
 "nbformat": 4,
 "nbformat_minor": 2
}
