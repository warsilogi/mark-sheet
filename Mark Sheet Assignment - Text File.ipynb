{
 "cells": [
  {
   "cell_type": "code",
   "execution_count": 1,
   "metadata": {},
   "outputs": [
    {
     "name": "stdout",
     "output_type": "stream",
     "text": [
      "Name:Muhammad Taha Mustafa\n",
      "ID: AIC029784\n",
      "Center: Gulshan campus\n",
      "SLOT: Sunday 12:15 to 3:15pm\n",
      "Marks obtained: 548\n",
      "Percentage: 78.28571428571428\n",
      "Grade: B\n"
     ]
    }
   ],
   "source": [
    "Name =\"Muhammad Taha Mustafa\"\n",
    "ID =\"AIC029784\"\n",
    "Center =\"Gulshan campus\"\n",
    "Slot =\"Sunday 12:15 to 3:15pm\"\n",
    "\n",
    "phy =76\n",
    "maths =84\n",
    "eng =80\n",
    "comp =77\n",
    "chem =70\n",
    "ststudies =73\n",
    "islamiat =88\n",
    "\n",
    "total_marks = phy + maths + eng + comp + ststudies + islamiat + chem\n",
    "str(total_marks)\n",
    "percentage = (total_marks/700)*100\n",
    "str(percentage)\n",
    "\n",
    "if percentage >=90:\n",
    "    grade= \"A-1\"\n",
    "    \n",
    "if percentage >=85 and percentage<=90:\n",
    "    grade= \"A\"\n",
    "\n",
    "if percentage >=75 and percentage<=80:\n",
    "    grade= \"B\"\n",
    "    \n",
    "if percentage >=65 and percentage<=70:\n",
    "    grade= \"C\"\n",
    "    \n",
    "if percentage >=55 and percentage<=60:\n",
    "    grade= \"D\"\n",
    "    \n",
    "if percentage >=45 and percentage<=50:\n",
    "    grade= \"E\"\n",
    "    \n",
    "if percentage <35:\n",
    "    grade=\"F\"\n",
    "    \n",
    "print(\"Name:\"+Name)\n",
    "print(\"ID: \"+ID)\n",
    "print(\"Center: \"+Center)\n",
    "print(\"SLOT: \"+Slot)\n",
    "print(\"Marks obtained: \"+str(total_marks))\n",
    "print(\"Percentage: \"+str(percentage))\n",
    "print(\"Grade: \"+grade)\n",
    "\n",
    "with open(\"output1.txt\", \"w\") as file_obj:\n",
    "    file_obj.write(\"Name:\\t\" + Name + \"\\n\")\n",
    "    file_obj.write(\"ID:\\t\" + ID + \"\\n\")\n",
    "    file_obj.write(\"Center:\\t\"+ Center + \"\\n\")\n",
    "    file_obj.write(\"SLOT:\\t\"+ Slot + \"\\n\")\n",
    "    file_obj.write(\"Marks obtained:\\t\"+ str(total_marks) + \"\\n\")\n",
    "    file_obj.write(\"Percentage:\\t\"+ str(percentage) + \"\\n\")\n",
    "    file_obj.write(\"Grade:\\t\"+ grade + \"\\n\")"
   ]
  }
 ],
 "metadata": {
  "kernelspec": {
   "display_name": "Python 3",
   "language": "python",
   "name": "python3"
  },
  "language_info": {
   "codemirror_mode": {
    "name": "ipython",
    "version": 3
   },
   "file_extension": ".py",
   "mimetype": "text/x-python",
   "name": "python",
   "nbconvert_exporter": "python",
   "pygments_lexer": "ipython3",
   "version": "3.7.3"
  }
 },
 "nbformat": 4,
 "nbformat_minor": 2
}
